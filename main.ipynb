{
 "cells": [
  {
   "cell_type": "code",
   "execution_count": 1,
   "id": "initial_id",
   "metadata": {
    "collapsed": true,
    "ExecuteTime": {
     "end_time": "2024-06-11T17:16:32.715421Z",
     "start_time": "2024-06-11T17:16:32.014203Z"
    }
   },
   "outputs": [
    {
     "name": "stdout",
     "output_type": "stream",
     "text": [
      "Intel MKL WARNING: Support of Intel(R) Streaming SIMD Extensions 4.2 (Intel(R) SSE4.2) enabled only processors has been deprecated. Intel oneAPI Math Kernel Library 2025.0 will require Intel(R) Advanced Vector Extensions (Intel(R) AVX) instructions.\n",
      "Intel MKL WARNING: Support of Intel(R) Streaming SIMD Extensions 4.2 (Intel(R) SSE4.2) enabled only processors has been deprecated. Intel oneAPI Math Kernel Library 2025.0 will require Intel(R) Advanced Vector Extensions (Intel(R) AVX) instructions.\n"
     ]
    }
   ],
   "source": [
    "from common.unit_conversions import celsius_to_fahrenheit\n",
    "from aircraft.N8273V import N8273V\n",
    "from classes.flightplan import FlightPlan\n",
    "from classes.waypoints import Waypoint\n",
    "from classes.legs import Leg, Climb, Cruise, Descend"
   ]
  },
  {
   "cell_type": "code",
   "execution_count": 2,
   "outputs": [],
   "source": [
    "departure_altitude = 998\n",
    "departure_temperature = celsius_to_fahrenheit(21)\n",
    "cruise_altitude = 5500\n",
    "destination_altitude = 996\n",
    "destination_temperature = celsius_to_fahrenheit(21)\n",
    "\n",
    "aircraft = N8273V()"
   ],
   "metadata": {
    "collapsed": false,
    "ExecuteTime": {
     "end_time": "2024-06-11T17:16:32.718741Z",
     "start_time": "2024-06-11T17:16:32.714865Z"
    }
   },
   "id": "46eca8aff46a5b3f"
  },
  {
   "cell_type": "markdown",
   "source": [
    "### Climb"
   ],
   "metadata": {
    "collapsed": false
   },
   "id": "a10712227b210784"
  },
  {
   "cell_type": "code",
   "execution_count": 3,
   "outputs": [
    {
     "name": "stdout",
     "output_type": "stream",
     "text": [
      "Climb from 998 ft -> 5500 ft ------------------------\n",
      "\tTime to Climb: 11.02 min\n",
      "\tDistance to Climb: 15.63 nm\n",
      "\tFuel to Climb: 2.40 gal\n"
     ]
    }
   ],
   "source": [
    "time, distance, fuel = aircraft.compute_climb(from_altitude=departure_altitude, \n",
    "                                              to_altitude=cruise_altitude,\n",
    "                                              temperature=departure_temperature)\n",
    "\n",
    "print(f\"Climb from {departure_altitude} ft -> {cruise_altitude} ft \" + '-'*24)\n",
    "print(f'\\tTime to Climb: {time:.2f} min')\n",
    "print(f'\\tDistance to Climb: {distance:.2f} nm')\n",
    "print(f'\\tFuel to Climb: {fuel:.2f} gal')"
   ],
   "metadata": {
    "collapsed": false,
    "ExecuteTime": {
     "end_time": "2024-06-11T17:16:32.723633Z",
     "start_time": "2024-06-11T17:16:32.720872Z"
    }
   },
   "id": "db253c6f710139f9"
  },
  {
   "cell_type": "markdown",
   "source": [
    "### Descent"
   ],
   "metadata": {
    "collapsed": false
   },
   "id": "8e71a6a7c96bf371"
  },
  {
   "cell_type": "code",
   "execution_count": 4,
   "outputs": [
    {
     "name": "stdout",
     "output_type": "stream",
     "text": [
      "Descent from 5500 ft -> 996 ft ------------------------\n",
      "\tTime to Climb: 11.77 min\n",
      "\tDistance to Climb: 23.86 nm\n",
      "\tFuel to Climb: 1.18 gal\n"
     ]
    }
   ],
   "source": [
    "time, distance, fuel = aircraft.compute_descent(from_altitude=cruise_altitude,\n",
    "                                                to_altitude=destination_altitude,\n",
    "                                                temperature=destination_temperature)\n",
    "\n",
    "print(f\"Descent from {cruise_altitude} ft -> {destination_altitude} ft \" + '-'*24)\n",
    "print(f'\\tTime to Climb: {time:.2f} min')\n",
    "print(f'\\tDistance to Climb: {distance:.2f} nm')\n",
    "print(f'\\tFuel to Climb: {fuel:.2f} gal')"
   ],
   "metadata": {
    "collapsed": false,
    "ExecuteTime": {
     "end_time": "2024-06-11T17:16:32.728487Z",
     "start_time": "2024-06-11T17:16:32.725382Z"
    }
   },
   "id": "ece0ced67e75eb94"
  },
  {
   "cell_type": "code",
   "execution_count": 5,
   "outputs": [],
   "source": [
    "plan = FlightPlan([\n",
    "    Climb(from_waypoint=Waypoint(\"KPDK\"), \n",
    "        to_waypoint=Waypoint(\"i985 / Top of Climb\"), \n",
    "        distance=15,\n",
    "        true_course=43, \n",
    "        true_airspeed=76,\n",
    "        start_altitude=998, \n",
    "        end_altitude=5500, \n",
    "        wind_direction=289,\n",
    "        wind_speed=4, \n",
    "        temperature=celsius_to_fahrenheit(23),\n",
    "        mag_var=6),\n",
    "    \n",
    "    Cruise(from_waypoint=Waypoint(\"Top of Climb\"), \n",
    "        to_waypoint=Waypoint(\"Lake Lanier\"), \n",
    "        distance=6,\n",
    "        true_course=43, \n",
    "        true_airspeed=115,\n",
    "        altitude=5500, \n",
    "        wind_direction=289,\n",
    "        wind_speed=8, \n",
    "        temperature=celsius_to_fahrenheit(19),\n",
    "        mag_var=6),\n",
    "    \n",
    "    Cruise(from_waypoint=Waypoint(\"Lake Lanier\"), \n",
    "        to_waypoint=Waypoint(\"GVL\"), \n",
    "        distance=6,\n",
    "        true_course=43, \n",
    "        true_airspeed=115,\n",
    "        altitude=5500, \n",
    "        wind_direction=290,\n",
    "        wind_speed=16, \n",
    "        temperature=celsius_to_fahrenheit(23),\n",
    "        mag_var=6),\n",
    "    \n",
    "    Descend(from_waypoint=Waypoint(\"GVL\"), \n",
    "        to_waypoint=Waypoint(\"Habersham\"), \n",
    "        distance=15,\n",
    "        true_course=45, \n",
    "        true_airspeed=76,\n",
    "        start_altitude=5500, \n",
    "        end_altitude=998, \n",
    "        wind_direction=289,\n",
    "        wind_speed=4, \n",
    "        temperature=celsius_to_fahrenheit(23),\n",
    "        mag_var=6),\n",
    "    \n",
    "], aircraft=aircraft)"
   ],
   "metadata": {
    "collapsed": false,
    "ExecuteTime": {
     "end_time": "2024-06-11T17:16:32.748911Z",
     "start_time": "2024-06-11T17:16:32.731867Z"
    }
   },
   "id": "2dea5c86957fbec7"
  },
  {
   "cell_type": "code",
   "execution_count": 7,
   "outputs": [
    {
     "name": "stdout",
     "output_type": "stream",
     "text": [
      "1) -- KPDK -> i985 / Top of Climb ----------------------------------------------\n",
      "\t TC: 43.0, TH: 40.2, MH: 46.2, CH: 46.2\n",
      "\t Start Altitude: 998 ft,  End Altitude: 5500 ft\n",
      "\t Time: 11.6 min,  Distance: 15.0 nm,  Fuel: 1.5 gal\n",
      "\t Climb Time: 11.4 min,  Climb Distance: 16.1 nm,  Climb Fuel: 2.4 gal\n",
      "\t Rem Time: 17.6 min,  Rem Distance: 27.0 nm,  Rem Fuel: 2.2 gal\n",
      "2) -- Top of Climb -> Lake Lanier ----------------------------------------------\n",
      "\t TC: 43.0, TH: 39.4, MH: 45.4, CH: 45.4\n",
      "\t Altitude: 5500 ft\n",
      "\t Time: 3.1 min,  Distance: 6.0 nm,  Fuel: 0.4 gal\n",
      "\t Rem Time: 14.6 min,  Rem Distance: 21.0 nm,  Rem Fuel: 1.8 gal\n",
      "3) -- Lake Lanier -> GVL -------------------------------------------------------\n",
      "\t TC: 43.0, TH: 35.7, MH: 41.7, CH: 41.7\n",
      "\t Altitude: 5500 ft\n",
      "\t Time: 3.0 min,  Distance: 6.0 nm,  Fuel: 0.4 gal\n",
      "\t Rem Time: 11.6 min,  Rem Distance: 15.0 nm,  Rem Fuel: 1.5 gal\n",
      "4) -- GVL -> Habersham ---------------------------------------------------------\n",
      "\t TC: 45.0, TH: 42.3, MH: 48.3, CH: 48.3\n",
      "\t Start Altitude: 5500 ft,  End Altitude: 998 ft\n",
      "\t Time: 11.6 min,  Distance: 15.0 nm,  Fuel: 1.5 gal\n",
      "\t Descent Time: 11.4 min,  Descent Distance: 23.2 nm,  Descent Fuel: 1.2 gal\n",
      "\t Rem Time: 0.0 min,  Rem Distance: 0.0 nm,  Rem Fuel: 0.0 gal\n"
     ]
    }
   ],
   "source": [
    "plan.evaluate()\n",
    "plan.summarize()"
   ],
   "metadata": {
    "collapsed": false,
    "ExecuteTime": {
     "end_time": "2024-06-11T17:16:45.338067Z",
     "start_time": "2024-06-11T17:16:45.334301Z"
    }
   },
   "id": "b51d1ca5590ca9ba"
  },
  {
   "cell_type": "code",
   "execution_count": null,
   "outputs": [],
   "source": [],
   "metadata": {
    "collapsed": false,
    "ExecuteTime": {
     "start_time": "2024-06-11T17:16:33.047872Z"
    }
   },
   "id": "50072d73a5c9a304"
  },
  {
   "cell_type": "code",
   "execution_count": null,
   "outputs": [],
   "source": [],
   "metadata": {
    "collapsed": false,
    "ExecuteTime": {
     "start_time": "2024-06-11T17:16:33.048917Z"
    }
   },
   "id": "45118d7e6365d994"
  }
 ],
 "metadata": {
  "kernelspec": {
   "display_name": "Python 3",
   "language": "python",
   "name": "python3"
  },
  "language_info": {
   "codemirror_mode": {
    "name": "ipython",
    "version": 2
   },
   "file_extension": ".py",
   "mimetype": "text/x-python",
   "name": "python",
   "nbconvert_exporter": "python",
   "pygments_lexer": "ipython2",
   "version": "2.7.6"
  }
 },
 "nbformat": 4,
 "nbformat_minor": 5
}
